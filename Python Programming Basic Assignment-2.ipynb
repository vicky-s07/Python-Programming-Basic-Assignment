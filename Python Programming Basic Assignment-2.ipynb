{
 "cells": [
  {
   "cell_type": "markdown",
   "metadata": {},
   "source": [
    "# Assignment 2"
   ]
  },
  {
   "cell_type": "code",
   "execution_count": 2,
   "metadata": {},
   "outputs": [
    {
     "name": "stdout",
     "output_type": "stream",
     "text": [
      "Enter Kilometer: 1000\n",
      "Miles =  620.0\n"
     ]
    }
   ],
   "source": [
    "# Q1\n",
    "kilometer = int(input(\"Enter Kilometer: \"))\n",
    "miles = kilometer*0.62\n",
    "print(\"Miles = \" , miles)"
   ]
  },
  {
   "cell_type": "code",
   "execution_count": 3,
   "metadata": {},
   "outputs": [
    {
     "name": "stdout",
     "output_type": "stream",
     "text": [
      "Enter celcius: 50\n",
      "122.0\n"
     ]
    }
   ],
   "source": [
    "# Q2\n",
    "celcius = int(input(\"Enter celcius: \"))\n",
    "fahrenheit = (celcius * (9/5)) + 32 \n",
    "print(fahrenheit)"
   ]
  },
  {
   "cell_type": "code",
   "execution_count": 1,
   "metadata": {},
   "outputs": [
    {
     "name": "stdout",
     "output_type": "stream",
     "text": [
      "Enter year = 2022\n",
      "Enter month in number = 1\n",
      "    January 2022\n",
      "Mo Tu We Th Fr Sa Su\n",
      "                1  2\n",
      " 3  4  5  6  7  8  9\n",
      "10 11 12 13 14 15 16\n",
      "17 18 19 20 21 22 23\n",
      "24 25 26 27 28 29 30\n",
      "31\n",
      "\n"
     ]
    }
   ],
   "source": [
    "# Q3\n",
    "import calendar\n",
    "yy = int(input(\"Enter year = \"))\n",
    "mm = int(input(\"Enter month in number = \"))\n",
    "print(calendar.month(yy,mm))  \n"
   ]
  },
  {
   "cell_type": "code",
   "execution_count": 3,
   "metadata": {},
   "outputs": [
    {
     "name": "stdout",
     "output_type": "stream",
     "text": [
      "Enter a = 25\n",
      "Enter b = 50\n",
      "Enter c = 10\n",
      "(-0.22540333075851662+0j) , (-1.7745966692414834+0j)\n"
     ]
    }
   ],
   "source": [
    "#Q4\n",
    "# Formula:\n",
    "# x=-b+-sqrt(b**2-4ac)/2*a\n",
    "import cmath\n",
    "a=int(input(\"Enter a = \"))\n",
    "b=int(input(\"Enter b = \"))\n",
    "c=int(input(\"Enter c = \"))\n",
    "discriminant = (b**2)-(4*a*c)\n",
    "sol1 = (-b+cmath.sqrt(discriminant))/(2*a)\n",
    "sol2 = (-b-cmath.sqrt(discriminant))/(2*a)\n",
    "print(sol1 ,\",\", sol2)"
   ]
  },
  {
   "cell_type": "code",
   "execution_count": 2,
   "metadata": {},
   "outputs": [
    {
     "name": "stdout",
     "output_type": "stream",
     "text": [
      "Enter 1st number : 28\n",
      "Enter 2nd number : 76\n",
      "Before Swap :\n",
      "first_var: 28\n",
      "second_var: 76 \n",
      "After Swap :\n",
      "first_var: 76\n",
      "second_var: 28 \n"
     ]
    }
   ],
   "source": [
    "# Q5\n",
    "first_var = int(input(\"Enter 1st number : \"))\n",
    "second_var = int(input(\"Enter 2nd number : \"))\n",
    "print(\"Before Swap :\\nfirst_var: {}\\nsecond_var: {} \".format(first_var , second_var))\n",
    "first_var,second_var=second_var,first_var\n",
    "print(\"After Swap :\\nfirst_var: {}\\nsecond_var: {} \".format(first_var , second_var))"
   ]
  },
  {
   "cell_type": "code",
   "execution_count": null,
   "metadata": {},
   "outputs": [],
   "source": []
  }
 ],
 "metadata": {
  "kernelspec": {
   "display_name": "Python 3",
   "language": "python",
   "name": "python3"
  },
  "language_info": {
   "codemirror_mode": {
    "name": "ipython",
    "version": 3
   },
   "file_extension": ".py",
   "mimetype": "text/x-python",
   "name": "python",
   "nbconvert_exporter": "python",
   "pygments_lexer": "ipython3",
   "version": "3.8.5"
  }
 },
 "nbformat": 4,
 "nbformat_minor": 4
}
