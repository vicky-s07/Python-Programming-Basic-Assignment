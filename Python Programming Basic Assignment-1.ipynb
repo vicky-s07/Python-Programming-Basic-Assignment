{
 "cells": [
  {
   "cell_type": "code",
   "execution_count": 1,
   "metadata": {},
   "outputs": [
    {
     "name": "stdout",
     "output_type": "stream",
     "text": [
      "Hello Python\n"
     ]
    }
   ],
   "source": [
    "# Q1\n",
    "print(\"Hello Python\")"
   ]
  },
  {
   "cell_type": "code",
   "execution_count": 3,
   "metadata": {},
   "outputs": [
    {
     "name": "stdout",
     "output_type": "stream",
     "text": [
      "Enter the number10\n",
      "Enter the number5\n",
      "Addition = 15 Division = 2\n"
     ]
    }
   ],
   "source": [
    "# Q2\n",
    "a=int(input(\"Enter the number\"))\n",
    "b=int(input(\"Enter the number\"))\n",
    "addition_res = a+b\n",
    "div_res = a//b\n",
    "print(\"Addition = {} Division = {}\".format(addition_res , div_res))"
   ]
  },
  {
   "cell_type": "code",
   "execution_count": 4,
   "metadata": {},
   "outputs": [
    {
     "name": "stdout",
     "output_type": "stream",
     "text": [
      "Enter the base = 20\n",
      "Enter the height = 40\n",
      "Area of triangle = 400 \n"
     ]
    }
   ],
   "source": [
    "# Q3\n",
    "Base = int(input(\"Enter the base = \"))\n",
    "height = int(input(\"Enter the height = \"))\n",
    "Area_triangle = (height*Base)/2\n",
    "print(\"Area of triangle = {} \".format(int(Area_triangle)))"
   ]
  },
  {
   "cell_type": "code",
   "execution_count": 5,
   "metadata": {},
   "outputs": [
    {
     "name": "stdout",
     "output_type": "stream",
     "text": [
      "Enter 1st number : 25\n",
      "Enter 2nd number : 12\n",
      "Before Swap :\n",
      "first_var: 25\n",
      "second_var: 12 \n",
      "After Swap :\n",
      "first_var: 12\n",
      "second_var: 25 \n"
     ]
    }
   ],
   "source": [
    "# Q4\n",
    "first_var = int(input(\"Enter 1st number : \"))\n",
    "second_var = int(input(\"Enter 2nd number : \"))\n",
    "print(\"Before Swap :\\nfirst_var: {}\\nsecond_var: {} \".format(first_var , second_var))\n",
    "first_var,second_var=second_var,first_var\n",
    "print(\"After Swap :\\nfirst_var: {}\\nsecond_var: {} \".format(first_var , second_var))"
   ]
  },
  {
   "cell_type": "code",
   "execution_count": 6,
   "metadata": {},
   "outputs": [
    {
     "name": "stdout",
     "output_type": "stream",
     "text": [
      "Enter Min number : 100\n",
      "Enter Max number : 1000\n",
      "322\n"
     ]
    }
   ],
   "source": [
    "# Q5\n",
    "import random\n",
    "a=int(input(\"Enter Min number : \"))\n",
    "b=int(input(\"Enter Max number : \"))\n",
    "print(random.randint(a,b))"
   ]
  },
  {
   "cell_type": "code",
   "execution_count": null,
   "metadata": {},
   "outputs": [],
   "source": []
  }
 ],
 "metadata": {
  "kernelspec": {
   "display_name": "Python 3",
   "language": "python",
   "name": "python3"
  },
  "language_info": {
   "codemirror_mode": {
    "name": "ipython",
    "version": 3
   },
   "file_extension": ".py",
   "mimetype": "text/x-python",
   "name": "python",
   "nbconvert_exporter": "python",
   "pygments_lexer": "ipython3",
   "version": "3.8.5"
  }
 },
 "nbformat": 4,
 "nbformat_minor": 4
}
